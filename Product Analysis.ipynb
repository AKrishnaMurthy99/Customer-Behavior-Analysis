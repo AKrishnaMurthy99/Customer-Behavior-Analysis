{
 "cells": [
  {
   "cell_type": "markdown",
   "id": "67065ba3-366a-4275-ba63-22c0e066d136",
   "metadata": {},
   "source": [
    "<img src=\"rupixen-Q59HmzK38eQ-unsplash.jpg\" alt=\"Someone is trying to purchase a produce online\" width=\"500\"/>"
   ]
  },
  {
   "cell_type": "markdown",
   "id": "fe2cbf96-ad4d-4165-8981-1b301108f5bc",
   "metadata": {
    "jupyter": {
     "outputs_hidden": false,
     "source_hidden": false
    }
   },
   "source": [
    "Online shopping decisions rely on how consumers engage with online store content. You work for a new startup company that has just launched a new online shopping website. The marketing team asks you, a new data scientist, to review a dataset of online shoppers' purchasing intentions gathered over the last year. Specifically, the team wants you to generate some insights into customer browsing behaviors in November and December, the busiest months for shoppers. You have decided to identify two groups of customers: those with a low purchase rate and returning customers. After identifying these groups, you want to determine the probability that any of these customers will make a purchase in a new marketing campaign to help gauge potential success for next year's sales.\n",
    "\n",
    "### Data description:\n",
    "\n",
    "You are given an `online_shopping_session_data.csv` that contains several columns about each shopping session. Each shopping session corresponded to a single user. \n",
    "\n",
    "|Column|Description|\n",
    "|--------|-----------|\n",
    "|`SessionID`|unique session ID|\n",
    "|`Administrative`|number of pages visited related to the customer account|\n",
    "|`Administrative_Duration`|total amount of time spent (in seconds) on administrative pages|\n",
    "|`Informational`|number of pages visited related to the website and the company|\n",
    "|`Informational_Duration`|total amount of time spent (in seconds) on informational pages|\n",
    "|`ProductRelated`|number of pages visited related to available products|\n",
    "|`ProductRelated_Duration`|total amount of time spent (in seconds) on product-related pages|\n",
    "|`BounceRates`|average bounce rate of pages visited by the customer|\n",
    "|`ExitRates`|average exit rate of pages visited by the customer|\n",
    "|`PageValues`|average page value of pages visited by the customer|\n",
    "|`SpecialDay`|closeness of the site visiting time to a specific special day|\n",
    "|`Weekend`|indicator whether the session is on a weekend|\n",
    "|`Month`|month of the session date|\n",
    "|`CustomerType`|customer type|\n",
    "|`Purchase`|class label whether the customer make a purchase|"
   ]
  },
  {
   "cell_type": "code",
   "execution_count": 1,
   "id": "b841fb9f-4e70-4796-9f35-7c6bbba3cca2",
   "metadata": {
    "executionCancelledAt": null,
    "executionTime": 4208,
    "lastExecutedAt": 1723085408037,
    "lastExecutedByKernel": "7479a42f-4ef0-4a8a-97e0-16c440819a0f",
    "lastScheduledRunId": null,
    "lastSuccessfullyExecutedCode": "# Import required libraries\nimport pandas as pd\nimport numpy as np\nimport matplotlib.pyplot as plt\nfrom scipy import stats\n\n# Load and view your data\nshopping_data = pd.read_csv(\"online_shopping_session_data.csv\")\nshopping_data.head()",
    "outputsMetadata": {
     "0": {
      "height": 211,
      "type": "dataFrame"
     }
    },
    "scrolled": true
   },
   "outputs": [
    {
     "data": {
      "text/html": [
       "<div>\n",
       "<style scoped>\n",
       "    .dataframe tbody tr th:only-of-type {\n",
       "        vertical-align: middle;\n",
       "    }\n",
       "\n",
       "    .dataframe tbody tr th {\n",
       "        vertical-align: top;\n",
       "    }\n",
       "\n",
       "    .dataframe thead th {\n",
       "        text-align: right;\n",
       "    }\n",
       "</style>\n",
       "<table border=\"1\" class=\"dataframe\">\n",
       "  <thead>\n",
       "    <tr style=\"text-align: right;\">\n",
       "      <th></th>\n",
       "      <th>SessionID</th>\n",
       "      <th>Administrative</th>\n",
       "      <th>Administrative_Duration</th>\n",
       "      <th>Informational</th>\n",
       "      <th>Informational_Duration</th>\n",
       "      <th>ProductRelated</th>\n",
       "      <th>ProductRelated_Duration</th>\n",
       "      <th>BounceRates</th>\n",
       "      <th>ExitRates</th>\n",
       "      <th>PageValues</th>\n",
       "      <th>SpecialDay</th>\n",
       "      <th>Weekend</th>\n",
       "      <th>Month</th>\n",
       "      <th>CustomerType</th>\n",
       "      <th>Purchase</th>\n",
       "    </tr>\n",
       "  </thead>\n",
       "  <tbody>\n",
       "    <tr>\n",
       "      <th>0</th>\n",
       "      <td>1</td>\n",
       "      <td>0</td>\n",
       "      <td>0.0</td>\n",
       "      <td>0</td>\n",
       "      <td>0.0</td>\n",
       "      <td>1</td>\n",
       "      <td>0.000000</td>\n",
       "      <td>0.20</td>\n",
       "      <td>0.20</td>\n",
       "      <td>0.0</td>\n",
       "      <td>0.0</td>\n",
       "      <td>False</td>\n",
       "      <td>Feb</td>\n",
       "      <td>Returning_Customer</td>\n",
       "      <td>0.0</td>\n",
       "    </tr>\n",
       "    <tr>\n",
       "      <th>1</th>\n",
       "      <td>2</td>\n",
       "      <td>0</td>\n",
       "      <td>0.0</td>\n",
       "      <td>0</td>\n",
       "      <td>0.0</td>\n",
       "      <td>2</td>\n",
       "      <td>64.000000</td>\n",
       "      <td>0.00</td>\n",
       "      <td>0.10</td>\n",
       "      <td>0.0</td>\n",
       "      <td>0.0</td>\n",
       "      <td>False</td>\n",
       "      <td>Feb</td>\n",
       "      <td>Returning_Customer</td>\n",
       "      <td>0.0</td>\n",
       "    </tr>\n",
       "    <tr>\n",
       "      <th>2</th>\n",
       "      <td>3</td>\n",
       "      <td>0</td>\n",
       "      <td>0.0</td>\n",
       "      <td>0</td>\n",
       "      <td>0.0</td>\n",
       "      <td>1</td>\n",
       "      <td>0.000000</td>\n",
       "      <td>0.20</td>\n",
       "      <td>0.20</td>\n",
       "      <td>0.0</td>\n",
       "      <td>0.0</td>\n",
       "      <td>False</td>\n",
       "      <td>Feb</td>\n",
       "      <td>Returning_Customer</td>\n",
       "      <td>0.0</td>\n",
       "    </tr>\n",
       "    <tr>\n",
       "      <th>3</th>\n",
       "      <td>4</td>\n",
       "      <td>0</td>\n",
       "      <td>0.0</td>\n",
       "      <td>0</td>\n",
       "      <td>0.0</td>\n",
       "      <td>2</td>\n",
       "      <td>2.666667</td>\n",
       "      <td>0.05</td>\n",
       "      <td>0.14</td>\n",
       "      <td>0.0</td>\n",
       "      <td>0.0</td>\n",
       "      <td>False</td>\n",
       "      <td>Feb</td>\n",
       "      <td>Returning_Customer</td>\n",
       "      <td>0.0</td>\n",
       "    </tr>\n",
       "    <tr>\n",
       "      <th>4</th>\n",
       "      <td>5</td>\n",
       "      <td>0</td>\n",
       "      <td>0.0</td>\n",
       "      <td>0</td>\n",
       "      <td>0.0</td>\n",
       "      <td>10</td>\n",
       "      <td>627.500000</td>\n",
       "      <td>0.02</td>\n",
       "      <td>0.05</td>\n",
       "      <td>0.0</td>\n",
       "      <td>0.0</td>\n",
       "      <td>True</td>\n",
       "      <td>Feb</td>\n",
       "      <td>Returning_Customer</td>\n",
       "      <td>0.0</td>\n",
       "    </tr>\n",
       "  </tbody>\n",
       "</table>\n",
       "</div>"
      ],
      "text/plain": [
       "   SessionID  Administrative  Administrative_Duration  Informational  \\\n",
       "0          1               0                      0.0              0   \n",
       "1          2               0                      0.0              0   \n",
       "2          3               0                      0.0              0   \n",
       "3          4               0                      0.0              0   \n",
       "4          5               0                      0.0              0   \n",
       "\n",
       "   Informational_Duration  ProductRelated  ProductRelated_Duration  \\\n",
       "0                     0.0               1                 0.000000   \n",
       "1                     0.0               2                64.000000   \n",
       "2                     0.0               1                 0.000000   \n",
       "3                     0.0               2                 2.666667   \n",
       "4                     0.0              10               627.500000   \n",
       "\n",
       "   BounceRates  ExitRates  PageValues  SpecialDay  Weekend Month  \\\n",
       "0         0.20       0.20         0.0         0.0    False   Feb   \n",
       "1         0.00       0.10         0.0         0.0    False   Feb   \n",
       "2         0.20       0.20         0.0         0.0    False   Feb   \n",
       "3         0.05       0.14         0.0         0.0    False   Feb   \n",
       "4         0.02       0.05         0.0         0.0     True   Feb   \n",
       "\n",
       "         CustomerType  Purchase  \n",
       "0  Returning_Customer       0.0  \n",
       "1  Returning_Customer       0.0  \n",
       "2  Returning_Customer       0.0  \n",
       "3  Returning_Customer       0.0  \n",
       "4  Returning_Customer       0.0  "
      ]
     },
     "execution_count": 1,
     "metadata": {},
     "output_type": "execute_result"
    }
   ],
   "source": [
    "# Import required libraries\n",
    "import pandas as pd\n",
    "import numpy as np\n",
    "import matplotlib.pyplot as plt\n",
    "from scipy import stats\n",
    "\n",
    "# Load and view your data\n",
    "shopping_data = pd.read_csv(\"online_shopping_session_data.csv\")\n",
    "shopping_data.head()"
   ]
  },
  {
   "cell_type": "code",
   "execution_count": 2,
   "id": "0f9adef6",
   "metadata": {},
   "outputs": [
    {
     "name": "stdout",
     "output_type": "stream",
     "text": [
      "<class 'pandas.core.frame.DataFrame'>\n",
      "RangeIndex: 12055 entries, 0 to 12054\n",
      "Data columns (total 15 columns):\n",
      " #   Column                   Non-Null Count  Dtype  \n",
      "---  ------                   --------------  -----  \n",
      " 0   SessionID                12055 non-null  int64  \n",
      " 1   Administrative           12055 non-null  int64  \n",
      " 2   Administrative_Duration  12055 non-null  float64\n",
      " 3   Informational            12055 non-null  int64  \n",
      " 4   Informational_Duration   12055 non-null  float64\n",
      " 5   ProductRelated           12055 non-null  int64  \n",
      " 6   ProductRelated_Duration  12055 non-null  float64\n",
      " 7   BounceRates              12055 non-null  float64\n",
      " 8   ExitRates                12055 non-null  float64\n",
      " 9   PageValues               12055 non-null  float64\n",
      " 10  SpecialDay               12055 non-null  float64\n",
      " 11  Weekend                  12055 non-null  bool   \n",
      " 12  Month                    12055 non-null  object \n",
      " 13  CustomerType             12054 non-null  object \n",
      " 14  Purchase                 12054 non-null  float64\n",
      "dtypes: bool(1), float64(8), int64(4), object(2)\n",
      "memory usage: 1.3+ MB\n"
     ]
    }
   ],
   "source": [
    "shopping_data.info()"
   ]
  },
  {
   "cell_type": "markdown",
   "id": "f4102874",
   "metadata": {},
   "source": [
    "The marketing team asked you to analyze the behavior of online customers during November and December, the busiest months for shoppers.\n",
    "\n",
    "What are the purchase rates for online shopping sessions by customer type for November and December? Store the result in a dictionary called purchase_rates in the format below using the exact names for keys."
   ]
  },
  {
   "cell_type": "code",
   "execution_count": 3,
   "id": "150fd797",
   "metadata": {},
   "outputs": [
    {
     "data": {
      "text/plain": [
       "(4450, 15)"
      ]
     },
     "execution_count": 3,
     "metadata": {},
     "output_type": "execute_result"
    }
   ],
   "source": [
    "df_nov_dec = shopping_data[shopping_data['Month'].isin(['Nov','Dec'])]\n",
    "df_nov_dec.shape"
   ]
  },
  {
   "cell_type": "code",
   "execution_count": null,
   "id": "c6405a0a",
   "metadata": {},
   "outputs": [],
   "source": [
    "# new customer purchase = purchase(1)/total\n",
    "# returning customer = purchase(1)/total"
   ]
  },
  {
   "cell_type": "code",
   "execution_count": 4,
   "id": "3b0e83ef",
   "metadata": {},
   "outputs": [
    {
     "data": {
      "text/html": [
       "<div>\n",
       "<style scoped>\n",
       "    .dataframe tbody tr th:only-of-type {\n",
       "        vertical-align: middle;\n",
       "    }\n",
       "\n",
       "    .dataframe tbody tr th {\n",
       "        vertical-align: top;\n",
       "    }\n",
       "\n",
       "    .dataframe thead th {\n",
       "        text-align: right;\n",
       "    }\n",
       "</style>\n",
       "<table border=\"1\" class=\"dataframe\">\n",
       "  <thead>\n",
       "    <tr style=\"text-align: right;\">\n",
       "      <th>Purchase</th>\n",
       "      <th>0.0</th>\n",
       "      <th>1.0</th>\n",
       "    </tr>\n",
       "    <tr>\n",
       "      <th>CustomerType</th>\n",
       "      <th></th>\n",
       "      <th></th>\n",
       "    </tr>\n",
       "  </thead>\n",
       "  <tbody>\n",
       "    <tr>\n",
       "      <th>New_Customer</th>\n",
       "      <td>529</td>\n",
       "      <td>199</td>\n",
       "    </tr>\n",
       "    <tr>\n",
       "      <th>Returning_Customer</th>\n",
       "      <td>2994</td>\n",
       "      <td>728</td>\n",
       "    </tr>\n",
       "  </tbody>\n",
       "</table>\n",
       "</div>"
      ],
      "text/plain": [
       "Purchase             0.0  1.0\n",
       "CustomerType                 \n",
       "New_Customer         529  199\n",
       "Returning_Customer  2994  728"
      ]
     },
     "execution_count": 4,
     "metadata": {},
     "output_type": "execute_result"
    }
   ],
   "source": [
    "Purchased_df = df_nov_dec.groupby(['CustomerType','Purchase'])['Purchase'].size().unstack(level = 1)\n",
    "Purchased_df"
   ]
  },
  {
   "cell_type": "code",
   "execution_count": 5,
   "id": "b7883786",
   "metadata": {},
   "outputs": [
    {
     "data": {
      "text/html": [
       "<div>\n",
       "<style scoped>\n",
       "    .dataframe tbody tr th:only-of-type {\n",
       "        vertical-align: middle;\n",
       "    }\n",
       "\n",
       "    .dataframe tbody tr th {\n",
       "        vertical-align: top;\n",
       "    }\n",
       "\n",
       "    .dataframe thead th {\n",
       "        text-align: right;\n",
       "    }\n",
       "</style>\n",
       "<table border=\"1\" class=\"dataframe\">\n",
       "  <thead>\n",
       "    <tr style=\"text-align: right;\">\n",
       "      <th>Purchase</th>\n",
       "      <th>0.0</th>\n",
       "      <th>1.0</th>\n",
       "      <th>sum</th>\n",
       "      <th>purchase_rate</th>\n",
       "    </tr>\n",
       "    <tr>\n",
       "      <th>CustomerType</th>\n",
       "      <th></th>\n",
       "      <th></th>\n",
       "      <th></th>\n",
       "      <th></th>\n",
       "    </tr>\n",
       "  </thead>\n",
       "  <tbody>\n",
       "    <tr>\n",
       "      <th>New_Customer</th>\n",
       "      <td>529</td>\n",
       "      <td>199</td>\n",
       "      <td>728</td>\n",
       "      <td>0.273352</td>\n",
       "    </tr>\n",
       "    <tr>\n",
       "      <th>Returning_Customer</th>\n",
       "      <td>2994</td>\n",
       "      <td>728</td>\n",
       "      <td>3722</td>\n",
       "      <td>0.195594</td>\n",
       "    </tr>\n",
       "  </tbody>\n",
       "</table>\n",
       "</div>"
      ],
      "text/plain": [
       "Purchase             0.0  1.0   sum  purchase_rate\n",
       "CustomerType                                      \n",
       "New_Customer         529  199   728       0.273352\n",
       "Returning_Customer  2994  728  3722       0.195594"
      ]
     },
     "execution_count": 5,
     "metadata": {},
     "output_type": "execute_result"
    }
   ],
   "source": [
    "Purchased_df['sum'] = Purchased_df[0.0] + Purchased_df[1.0]\n",
    "\n",
    "Purchased_df['purchase_rate'] = Purchased_df[1]/Purchased_df['sum']\n",
    "Purchased_df"
   ]
  },
  {
   "cell_type": "code",
   "execution_count": 7,
   "id": "8d2d2ac2",
   "metadata": {},
   "outputs": [],
   "source": [
    "purchase_rate_new_cust = Purchased_df.loc['New_Customer','purchase_rate']\n",
    "purchase_rate_returning_cust = Purchased_df.loc['Returning_Customer','purchase_rate']"
   ]
  },
  {
   "cell_type": "code",
   "execution_count": 8,
   "id": "231e5f5b",
   "metadata": {},
   "outputs": [
    {
     "data": {
      "text/plain": [
       "{'New_Customer': 0.2733516483516483, 'Returning_Customer': 0.1955937667920473}"
      ]
     },
     "execution_count": 8,
     "metadata": {},
     "output_type": "execute_result"
    }
   ],
   "source": [
    "purchase_rates= {'New_Customer': purchase_rate_new_cust,'Returning_Customer':purchase_rate_returning_cust}\n",
    "purchase_rates"
   ]
  },
  {
   "cell_type": "markdown",
   "id": "71b7fd00",
   "metadata": {},
   "source": [
    "What is the strongest correlation in total time spent among page types by returning customers in November and December? Store the result in a dictionary called top_correlation in the format below using the exact names for keys."
   ]
  },
  {
   "cell_type": "code",
   "execution_count": 13,
   "id": "21f8e4e7",
   "metadata": {},
   "outputs": [],
   "source": [
    "nov_dec_return_cust= df_nov_dec[ df_nov_dec['CustomerType'].isin(['Returning_Customer'])]"
   ]
  },
  {
   "cell_type": "code",
   "execution_count": 19,
   "id": "ceffbe06",
   "metadata": {},
   "outputs": [],
   "source": [
    "corr_mat = nov_dec_return_cust[['Administrative_Duration','Informational_Duration','ProductRelated_Duration']].corr()\n",
    "corr_copy = corr_mat.copy()"
   ]
  },
  {
   "cell_type": "code",
   "execution_count": 21,
   "id": "a8dfd118",
   "metadata": {},
   "outputs": [],
   "source": [
    "#Filling the dialgonal with np.nan as max corr is 1 so removing it will help getting the best corr\n",
    "np.fill_diagonal(corr_copy.values,np.nan)"
   ]
  },
  {
   "cell_type": "code",
   "execution_count": 28,
   "id": "d9a04db5",
   "metadata": {},
   "outputs": [
    {
     "data": {
      "text/plain": [
       "{'pair': ('Administrative_Duration', 'ProductRelated_Duration'),\n",
       " 'correlation': 0.41689293883422823}"
      ]
     },
     "execution_count": 28,
     "metadata": {},
     "output_type": "execute_result"
    }
   ],
   "source": [
    "\n",
    "top_correlation = {\"pair\": (corr_copy.stack().idxmax()[0], corr_copy.stack().idxmax()[1]), \"correlation\": corr_copy.stack().max()}\n",
    "top_correlation"
   ]
  },
  {
   "cell_type": "markdown",
   "id": "9c93e3ab",
   "metadata": {},
   "source": [
    "**A new campaign for the returning customers will boost the purchase rate by 15%. What is the likelihood of achieving at least 100 sales out of 500 online shopping sessions for the returning customers? Store the result in a variable called prob_at_least_100_sales. Optional: plot a binomial probability distribution chart to visualize your chances.**"
   ]
  },
  {
   "cell_type": "code",
   "execution_count": 29,
   "id": "a43e6465",
   "metadata": {},
   "outputs": [
    {
     "name": "stdout",
     "output_type": "stream",
     "text": [
      "Current purchase rate for the returning customer: 0.1955937667920473\n"
     ]
    }
   ],
   "source": [
    "# We know that the current purchase rate for the returning customers is\n",
    "print(\"Current purchase rate for the returning customer:\", purchase_rate_returning_cust)"
   ]
  },
  {
   "cell_type": "code",
   "execution_count": 31,
   "id": "f7f9c0a1",
   "metadata": {},
   "outputs": [
    {
     "name": "stdout",
     "output_type": "stream",
     "text": [
      "Current purchase rate for the returning customer: 0.22493283181085436\n"
     ]
    }
   ],
   "source": [
    "#15% increase would be\n",
    "pr_15 = purchase_rate_returning_cust*1.15\n",
    "print(\"Current purchase rate for the returning customer:\",pr_15)"
   ]
  },
  {
   "cell_type": "code",
   "execution_count": 35,
   "id": "3f191765",
   "metadata": {},
   "outputs": [
    {
     "name": "stdout",
     "output_type": "stream",
     "text": [
      "probability of having <100 sales: 0.0987778660962733\n"
     ]
    }
   ],
   "source": [
    "# First, we find the likelihood of having <100 sales of 500 sessions\n",
    "# We can find this from binomial cdf\n",
    "prob_sales_less_100 = stats.binom.cdf(k = 100,n=500,p = pr_15 )\n",
    "\n",
    "print(\"probability of having <100 sales:\", prob_sales_less_100)"
   ]
  },
  {
   "cell_type": "code",
   "execution_count": 37,
   "id": "e86b0e70",
   "metadata": {},
   "outputs": [
    {
     "name": "stdout",
     "output_type": "stream",
     "text": [
      "probability of having at least 100 sales: 0.9012221339037267\n"
     ]
    }
   ],
   "source": [
    "# so the probabiility of having atleast 100 sales would be\n",
    "prob_at_least_100_sales = 1 - prob_sales_less_100\n",
    "print(\"probability of having at least 100 sales:\", prob_at_least_100_sales)"
   ]
  },
  {
   "cell_type": "code",
   "execution_count": 38,
   "id": "ead12927",
   "metadata": {},
   "outputs": [
    {
     "data": {
      "image/png": "[encoded data removed]",
      "text/plain": [
       "<Figure size 640x480 with 1 Axes>"
      ]
     },
     "metadata": {},
     "output_type": "display_data"
    }
   ],
   "source": [
    "n_sessions = 500\n",
    "k_values = np.arange(500) + 1\n",
    "p_binom_values = [stats.binom.pmf(k, n_sessions, pr_15) for k in k_values ] \n",
    "plt.bar(k_values, p_binom_values) \n",
    "plt.vlines(100, 0, 0.08, color='r', linestyle='dashed', label=\"sales=100\")\n",
    "plt.xlabel(\"number of sales\")\n",
    "plt.ylabel(\"probability\")\n",
    "plt.legend()\n",
    "plt.show()\n"
   ]
  },
  {
   "cell_type": "code",
   "execution_count": null,
   "id": "7ccb8611",
   "metadata": {},
   "outputs": [],
   "source": []
  }
 ],
 "metadata": {
  "editor": "DataLab",
  "kernelspec": {
   "display_name": "Python 3 (ipykernel)",
   "language": "python",
   "name": "python3"
  },
  "language_info": {
   "codemirror_mode": {
    "name": "ipython",
    "version": 3
   },
   "file_extension": ".py",
   "mimetype": "text/x-python",
   "name": "python",
   "nbconvert_exporter": "python",
   "pygments_lexer": "ipython3",
   "version": "3.9.13"
  }
 },
 "nbformat": 4,
 "nbformat_minor": 5
}
